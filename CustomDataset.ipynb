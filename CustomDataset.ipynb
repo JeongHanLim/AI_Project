{
  "nbformat": 4,
  "nbformat_minor": 0,
  "metadata": {
    "colab": {
      "name": "CustomDataset.ipynb",
      "provenance": [],
      "collapsed_sections": []
    },
    "kernelspec": {
      "name": "python3",
      "display_name": "Python 3"
    },
    "language_info": {
      "name": "python"
    }
  },
  "cells": [
    {
      "cell_type": "code",
      "metadata": {
        "colab": {
          "base_uri": "https://localhost:8080/"
        },
        "id": "ZStqPlL-TeF9",
        "outputId": "6058960e-ab96-422c-ce65-56c5cf4f4a3d"
      },
      "source": [
        "!unzip STAD_DATA.zip"
      ],
      "execution_count": null,
      "outputs": [
        {
          "output_type": "stream",
          "name": "stdout",
          "text": [
            "Archive:  STAD_DATA.zip\n",
            "   creating: STAD_MSI_TEST/\n",
            "   creating: STAD_MSI_TRAIN/\n",
            "   creating: STAD_MSS_TEST/\n",
            "   creating: STAD_MSS_TRAIN/\n"
          ]
        }
      ]
    },
    {
      "cell_type": "markdown",
      "metadata": {
        "id": "IRKMlNNYVx22"
      },
      "source": [
        "## DATA PATH 가져오기 "
      ]
    },
    {
      "cell_type": "code",
      "metadata": {
        "id": "jEpaMCp_VFqI"
      },
      "source": [
        "from glob import glob\n",
        "DATA_PATH_TRAIN_LIST = glob('./TCGA_DATA/CRC_TRAIN/*/*.png') \n",
        "DATA_PATH_TEST_LIST = glob('./TCGA_DATA/CRC_TEST/*/*.png')"
      ],
      "execution_count": null,
      "outputs": []
    },
    {
      "cell_type": "markdown",
      "metadata": {
        "id": "lO5R9cDJV2Yf"
      },
      "source": [
        "## Custom DataSet "
      ]
    },
    {
      "cell_type": "code",
      "metadata": {
        "id": "eOZcHFVJVqjI"
      },
      "source": [
        "from torch.utils.data import Dataset, DataLoader\n",
        "from skimage import io, transform\n",
        "\n",
        "class STAD_DataSet(Dataset):\n",
        "    #data_path_list - 이미지 path 전체 리스트\n",
        "    #label - 이미지 ground truth\n",
        "    def __init__(self, data_path_list, classes, transform=None):\n",
        "        self.path_list = data_path_list\n",
        "        self.label = get_label(data_path_list)\n",
        "        self.transform = transform\n",
        "        self.classes = classes\n",
        "        \n",
        "    def get_label(data_path_list):\n",
        "        label_list = []\n",
        "        for path in data_path_list:\n",
        "            # 뒤에서 두번째가 class다.\n",
        "            label_list.append(path.split('/')[-2])\n",
        "        return label_list\n",
        "\n",
        "    def __len__(self):\n",
        "        return len(self.path_list)\n",
        "\n",
        "    def __getitem__(self, idx):\n",
        "        if torch.is_tensor(idx):\n",
        "            idx = idx.tolist()\n",
        "        image = io.imread(self.path_list[idx])\n",
        "        if self.transform is not None:\n",
        "            image = self.transform(image)\n",
        "        return image, self.classes.index(self.label[idx])"
      ],
      "execution_count": null,
      "outputs": []
    }
  ]
}